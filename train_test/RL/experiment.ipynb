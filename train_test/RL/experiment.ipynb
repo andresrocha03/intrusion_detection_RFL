{
 "cells": [
  {
   "cell_type": "code",
   "execution_count": 6,
   "metadata": {},
   "outputs": [],
   "source": [
    "import os\n",
    "import time\n",
    "import sys\n",
    "\n",
    "sys.path.insert(0,'/home/andre/unicamp/ini_cien/intrusion_detection_RFL/environments')\n",
    "import pandas as pd\n",
    "import gymnasium as gym\n",
    "from stable_baselines3 import A2C, PPO, DQN\n",
    "from tabularenv2 import TabularEnv"
   ]
  },
  {
   "cell_type": "code",
   "execution_count": 7,
   "metadata": {},
   "outputs": [],
   "source": [
    "# Load your dataset\n",
    "data_folder = '/home/andre/unicamp/ini_cien/intrusion_detection_RFL/data/processed_data/current_testing/'\n",
    "df_train = pd.read_csv(os.path.join(data_folder, \"x_one_train.csv\" ))\n",
    "label_train = pd.read_csv(os.path.join(data_folder, \"y_one_train.csv\"))"
   ]
  },
  {
   "cell_type": "code",
   "execution_count": 8,
   "metadata": {},
   "outputs": [],
   "source": [
    "selected = \"DQN\"\n",
    "option = \"one\"\n",
    "model_name = f\"{selected}_{option}_\"\n",
    "\n",
    "\n",
    "saving_model_dir = f\"models/{model_name}\" \n",
    "if not os.path.exists(saving_model_dir):\n",
    "    os.makedirs(saving_model_dir)\n",
    "\n",
    "logdir  = \"logs/\"\n",
    "if not os.path.exists(logdir):\n",
    "    os.makedirs(logdir)"
   ]
  },
  {
   "cell_type": "code",
   "execution_count": 9,
   "metadata": {},
   "outputs": [
    {
     "name": "stdout",
     "output_type": "stream",
     "text": [
      "reset called, reached step count 0\n"
     ]
    },
    {
     "data": {
      "text/plain": [
       "(array([[ 1.8048681 , -0.06131647,  1.0598578 , -0.21424706, -0.07091061,\n",
       "          0.03571225,  0.3776072 , -0.14860472, -0.11269988,  0.13838264,\n",
       "         -0.15378076,  0.7141998 ,  0.14956534,  0.09427102, -0.2547592 ]]),\n",
       " {})"
      ]
     },
     "execution_count": 9,
     "metadata": {},
     "output_type": "execute_result"
    }
   ],
   "source": [
    "env = TabularEnv(df_train, label_train)\n",
    "env.reset()"
   ]
  },
  {
   "cell_type": "markdown",
   "metadata": {},
   "source": [
    "----------- MODELO 1 -------------\n",
    "\n",
    "\n",
    "TIMESTEPS = 100000\n",
    "model = DQN(\"MlpPolicy\", env, tensorboard_log=logdir, target_update_interval=1000)\n",
    "\n",
    "--> TRAIN\n",
    "{\n",
    "'accuracy': 0.8684, \n",
    "'precision': 0.6676653795716159, \n",
    "'recall': 0.7328348810011694,\n",
    "}\n",
    "\n",
    "--> TEST\n",
    "acc: 0.7110555555555556\n",
    "Precision: 0.61\n",
    "Recall: 0.57\n",
    "loss 0.643826319010477\n"
   ]
  },
  {
   "cell_type": "markdown",
   "metadata": {},
   "source": [
    "----------- MODELO 2 --------------\n",
    "\n",
    "TIMESTEPS = 100000\n",
    "model = DQN(\"MlpPolicy\", env, tensorboard_log=logdir, target_update_interval=1000, buffer_size=500000)\n",
    "\n",
    "--> TRAIN\n",
    " 'accuracy': 0.88081, \n",
    " 'precision': 0.6769016955434077, \n",
    " 'recall': 0.7302659856261807, \n",
    " \n",
    "--> TEST\n",
    "acc: 0.7087777777777777\n",
    "Precision: 0.65\n",
    "Recall: 0.46\n",
    "tempo de teste: 6.26\n",
    "loss 0.6311453665709996\n"
   ]
  },
  {
   "cell_type": "markdown",
   "metadata": {},
   "source": [
    "------------ MODELO 3 --------------\n",
    "\n",
    "\n",
    "NOVA BASE\n",
    "\n",
    "TIMESTEPS = 100000\n",
    "model = DQN(\"MlpPolicy\", env, tensorboard_log=logdir, target_update_interval=1000, buffer_size=100000)\n",
    "\n",
    "-> TRAIN\n",
    "{'accuracy': 0.80659, 'precision': 0.7074476782210595, \n",
    "'recall': 0.5189349644688315, 'terminated': True}\n",
    "\n",
    "-> TEST\n",
    "acc: 0.6869642857142857\n",
    "Precision: 0.61\n",
    "Recall: 0.54\n",
    "tempo de teste: 5.97\n",
    "loss 0.6535128001525802\n",
    "\n"
   ]
  },
  {
   "cell_type": "markdown",
   "metadata": {},
   "source": [
    "---------------- MODELO 4 ----------\n",
    "\n",
    "TIMESTEPS = 100000\n",
    "model = DQN(\"MlpPolicy\", env, tensorboard_log=logdir)\n",
    "-> TRAIN\n",
    "\n",
    "'accuracy': 0.87778, 'precision': 0.7022845854894467, 'recall': 0.6538034841533987, Tempo de treinamento: 651.43\n",
    "\n",
    "\n",
    "-> TEST\n",
    "\n",
    "acc: 0.7390178571428572\n",
    "Precision: 0.61\n",
    "Recall: 0.67\n",
    "tempo de teste: 13.42\n",
    "loss 0.6401302111975632\n"
   ]
  },
  {
   "cell_type": "markdown",
   "metadata": {},
   "source": [
    "---------- MODELO 5 ----------\n",
    "\n",
    "TIMESTEPS = 100000\n",
    "model = DQN(\"MlpPolicy\", env, tensorboard_log=logdir, batch_size=128)\n",
    "\n",
    "-> TRAIN\n",
    "\n",
    "{'accuracy': 0.88776, \n",
    "'precision': 0.6990921283400392, \n",
    "'recall': 0.6772710463454369,\n",
    "Tempo de treinamento: 680.08\n",
    "}\n",
    "\n",
    "-> TEST\n",
    "\n",
    "Accuracy: 0.78\n",
    "Precision: 0.72\n",
    "Recall: 0.45\n",
    "tempo de teste: 13.83\n",
    "loss 0.5902731987869312\n",
    "acc: 0.7809375\n",
    "\n",
    "\n"
   ]
  }
 ],
 "metadata": {
  "kernelspec": {
   "display_name": "flower-env",
   "language": "python",
   "name": "python3"
  },
  "language_info": {
   "codemirror_mode": {
    "name": "ipython",
    "version": 3
   },
   "file_extension": ".py",
   "mimetype": "text/x-python",
   "name": "python",
   "nbconvert_exporter": "python",
   "pygments_lexer": "ipython3",
   "version": "3.10.12"
  }
 },
 "nbformat": 4,
 "nbformat_minor": 2
}
