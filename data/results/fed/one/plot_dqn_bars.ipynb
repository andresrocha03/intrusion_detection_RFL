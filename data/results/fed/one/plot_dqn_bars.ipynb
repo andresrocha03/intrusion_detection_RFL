{
 "cells": [
  {
   "cell_type": "code",
   "execution_count": 4,
   "metadata": {},
   "outputs": [
    {
     "data": {
      "text/plain": [
       "<Figure size 300x300 with 0 Axes>"
      ]
     },
     "metadata": {},
     "output_type": "display_data"
    }
   ],
   "source": [
    "NOME_PT = {\"Accuracy\" : \"Acurácia\", \"Precision\" : \"Precisão\", \"Recall\": \"Recall\",}\n",
    "PT_LABELS = ['Acurácia', 'Precisão', 'Recall']\n",
    "\n",
    "\n",
    "# Import libraries\n",
    "import pandas as pd\n",
    "import matplotlib.pyplot as plt\n",
    "import numpy as np\n",
    "\n",
    "\n",
    "# Define metrics and models\n",
    "metrics = [\"Accuracy\", \"Precision\", \"Recall\"]\n",
    "model = \"dqn\"\n",
    "colors = [('red', 'blue'), ('red', 'blue'), ('red', 'blue'), ('red', 'blue')]\n",
    "labels = ['Accuracy', 'Precision', 'Recall']\n",
    "\n",
    "# Load central results\n",
    "central_results = pd.read_csv(\"central_res.csv\")\n",
    "\n",
    "# Set width of bar\n",
    "barWidth = 0.3\n",
    "\n",
    "# Increase the space between model groups\n",
    "space_between_groups = 1.0\n",
    "\n",
    "\n",
    "# Setting the positions of the bars on x-axis\n",
    "r1 = np.arange(len(metrics))\n",
    "r2 = [x + 2*barWidth for x in r1]\n",
    "\n",
    "# Adjust positions to add space between model groups\n",
    "r1 = [x + space_between_groups*i for i, x in enumerate(r1)]\n",
    "r2 = [x + space_between_groups*i for i, x in enumerate(r2)]\n",
    "\n",
    "added_legend = (False, False)\n",
    "\n",
    "#figure size\n",
    "plt.figure(figsize=(3, 3))\n",
    "\n",
    "for i, (metric, (color1, color2), label) in enumerate(zip(metrics, colors, labels)):\n",
    "    # Load the per-round data for the model\n",
    "    data = pd.read_csv(f\"{model}_plot.csv\")\n",
    "\n",
    "    # Get the final value for the metric\n",
    "    final_value = data[metric].iloc[-1]\n",
    "\n",
    "    # Get the central value for the metric from central_res.csv\n",
    "    central_value = central_results.loc[central_results[\"Model Name\"] == model, metric].values[0]\n",
    "\n",
    "    # Plot bars\n",
    "    plt.bar(r1[i], central_value, color=color1, label=\"Centralizado\" if not added_legend[0] else \"\")\n",
    "    plt.bar(r2[i], final_value, color=color2, label=f\"Federado\" if not added_legend[1] else \"\")\n",
    "    added_legend = (True, True)\n",
    "\n",
    "    # Customize the plot\n",
    "    plt.xlabel('')\n",
    "    plt.ylabel(\"Valores\")\n",
    "    plt.title(f\"Centralizado vs Federado\")\n",
    "    plt.xticks([(x + barWidth/2) for x in r1], PT_LABELS)\n",
    "\n",
    "    # Set y-axis limits\n",
    "    plt.ylim(0.5, 1.0)  # Set y-axis limits\n",
    "\n",
    "    # Adjust the legend position\n",
    "    plt.legend(loc='upper center', bbox_to_anchor=(0.5, -0.2), ncol=2, frameon=False)\n",
    "    plt.tight_layout()\n",
    "\n",
    "\n",
    "    \n",
    "    # Save the figure\n",
    "    plt.savefig(f\"bar_dqn.png\")\n",
    "plt.clf()  # Clear the figure for the next plot"
   ]
  },
  {
   "cell_type": "code",
   "execution_count": 14,
   "metadata": {},
   "outputs": [
    {
     "data": {
      "image/png": "[encoded data removed]",
      "text/plain": [
       "<Figure size 400x200 with 3 Axes>"
      ]
     },
     "metadata": {},
     "output_type": "display_data"
    }
   ],
   "source": [
    "NOME_PT = {\"Accuracy\" : \"Acurácia\", \"Precision\" : \"Precisão\", \"Recall\": \"Recall\",}\n",
    "PT_LABELS = ['Acurácia', 'Precisão', 'Recall']\n",
    "\n",
    "\n",
    "# Import libraries\n",
    "import pandas as pd\n",
    "import matplotlib.pyplot as plt\n",
    "import numpy as np\n",
    "import seaborn as sns\n",
    "import matplotlib.patches as mpatches\n",
    "\n",
    "# Define metrics and models\n",
    "metrics = [\"Accuracy\", \"Precision\", \"Recall\"]\n",
    "model = \"dqn\"\n",
    "colors = ['red', 'blue']\n",
    "labels = ['Accuracy', 'Precision', 'Recall']\n",
    "\n",
    "# Load central results\n",
    "results = pd.read_csv(\"dqn_bars.csv\")\n",
    "\n",
    "fig, ax = plt.subplots(figsize=(4, 2), nrows=1, ncols=3, sharey=True)\n",
    "for idx_plot, metric in enumerate(metrics):\n",
    "    sns.barplot(x='Model Name', y=metric, data=results, palette=colors, \n",
    "                hue='Model Name', ec='k', ax=ax[idx_plot])\n",
    "    ax[idx_plot].set_title(NOME_PT[metric])\n",
    "    ax[idx_plot].set_xlabel('')\n",
    "    ax[idx_plot].set_ylim(0.5, 1)\n",
    "    ax[idx_plot].set_ylabel('Resultado (%)')\n",
    "    ax[idx_plot].set_xticks([0, 1], (' ', ' '))\n",
    "\n",
    "#criar objetos para cada modelo\n",
    "dqn_cent = mpatches.Patch(color='red', label='Federado')\n",
    "dqn_fed = mpatches.Patch(color='blue', label='Centralizado')\n",
    "\n",
    "fig.legend(handles=[dqn_cent, dqn_fed], loc='lower center', bbox_to_anchor=(0.5, -0.1), ncol=4, frameon=False)\n",
    "\n",
    "plt.savefig(\"dqn_bars.png\", bbox_inches='tight', dpi=500)"
   ]
  }
 ],
 "metadata": {
  "kernelspec": {
   "display_name": "flower-env",
   "language": "python",
   "name": "python3"
  },
  "language_info": {
   "codemirror_mode": {
    "name": "ipython",
    "version": 3
   },
   "file_extension": ".py",
   "mimetype": "text/x-python",
   "name": "python",
   "nbconvert_exporter": "python",
   "pygments_lexer": "ipython3",
   "version": "3.10.12"
  }
 },
 "nbformat": 4,
 "nbformat_minor": 2
}
