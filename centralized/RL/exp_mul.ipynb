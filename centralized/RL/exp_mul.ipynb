{
 "cells": [
  {
   "cell_type": "markdown",
   "metadata": {},
   "source": [
    "----------- MODELO 1 -------------\n",
    "\n",
    "\n",
    "TIMESTEPS = 55000\n",
    "model = DQN(\"MlpPolicy\", train_env, tensorboard_log=logdir, learning_rate=0.00001)\n",
    "\n",
    "----- TRAIN ------\n",
    "{'step': 55000, 'idx': 4600, 'accuracy': 0.3916181818181818, 'precision': 0.32700076832441155, 'recall': 0.39113756524934773, 'terminated': False, \n",
    "\n",
    "----- TEST ------\n",
    "{'accuracy': 0.33111111111111113, 'loss': 1.9470140370538116, 'precision': 0.33294169889917363, 'recall': 0.33111111111111113, 'test_time': 4.4960432052612305}\n"
   ]
  },
  {
   "cell_type": "markdown",
   "metadata": {
    "vscode": {
     "languageId": "plaintext"
    }
   },
   "source": [
    "----------- BEST -------------\n",
    "\n",
    "\n",
    "TIMESTEPS = 55000\n",
    "model = DQN(\"MlpPolicy\", train_env, tensorboard_log=logdir, learning_rate=1e-4)\n",
    "\n",
    "----- TRAIN ------\n",
    "{'step': 55000, 'idx': 4600, 'accuracy': 0.43136363636363634, 'precision': 0.3286548822915274, 'recall': 0.4304864603683334, 'terminated': False, 'episode': {'r': 0.0, 'l': 500, 't': 54.253287}, 'TimeLimit.truncated': False, 'terminal_observation': array([[-0.9602263 , -0.11903548, -0.11317129, -0.2584052 ,  0.51141244,\n",
    "        -0.2596014 ,  0.5306182 ,  0.0123745 , -0.02036765, -0.03108309,\n",
    "         0.07362344,  0.10329714,  0.04520649,  0.02645711, -0.0754699 ]]), 'train_time': 53.6998291015625}\n",
    "\n",
    "----- TEST ------\n",
    "{'accuracy': 0.4058730158730159, 'loss': 2.0112051225122567, 'precision': 0.32765116324253096, 'recall': 0.40587301587301583, 'test_time': 4.510055303573608}\n"
   ]
  },
  {
   "cell_type": "markdown",
   "metadata": {
    "vscode": {
     "languageId": "plaintext"
    }
   },
   "source": [
    "----------- MODELO 1 -------------\n",
    "\n",
    "\n",
    "TIMESTEPS = 55000\n",
    "model = DQN(\"MlpPolicy\", train_env, tensorboard_log=logdir, learning_rate=1e-3)\n",
    "\n",
    "----- TRAIN ------\n",
    "{'step': 55000, 'idx': 4600, 'accuracy': 0.7148363636363636, 'precision': 0.7130050185202177, 'recall': 0.7146231348070353, 'terminated': False, \n",
    "\n",
    "\n",
    "----- TEST ------\n",
    "{'accuracy': 0.3497619047619048, 'loss': 1.913572572947466, 'precision': 0.4812634032018264, 'recall': 0.3497619047619047, 'test_time': 4.470351934432983}\n",
    "\n"
   ]
  },
  {
   "cell_type": "markdown",
   "metadata": {
    "vscode": {
     "languageId": "plaintext"
    }
   },
   "source": [
    "----------- MODELO 1 -------------\n",
    "\n",
    "\n",
    "TIMESTEPS = 100000\n",
    "model = DQN(\"MlpPolicy\", train_env, tensorboard_log=logdir, learning_rate=1e-4)\n",
    "\n",
    "\n",
    "----- TRAIN ------\n",
    "{'step': 100000, 'idx': 49600, 'accuracy': 0.76535, 'precision': 0.7680884640694018, 'recall': 0.7652609829679533, 'terminated': False, \n",
    "\n",
    "\n",
    "----- TEST ------\n",
    "{'accuracy': 0.3688095238095238, 'loss': 1.8653528957261594, 'precision': 0.4136196478578314, 'recall': 0.3688095238095238, 'test_time': 4.432893991470337}\n"
   ]
  },
  {
   "cell_type": "markdown",
   "metadata": {
    "vscode": {
     "languageId": "plaintext"
    }
   },
   "source": [
    "----------- MODELO 1 -------------\n",
    "\n",
    "\n",
    "TIMESTEPS = 100000\n",
    "model = DQN(\"MlpPolicy\", train_env, tensorboard_log=logdir, learning_rate=5e-5)\n",
    "\n",
    "----- TRAIN ------\n",
    "{'step': 100000, 'idx': 49600, 'accuracy': 0.62645, 'precision': 0.6335508097286728, 'recall': 0.6264220229535499, 'terminated': False, \n",
    "\n",
    "\n",
    "----- TEST ------\n",
    "{'accuracy': 0.3765873015873016, 'loss': 1.9448652905695347, 'precision': 0.46854795196607335, 'recall': 0.3765873015873016, 'test_time': 4.517358064651489}\n",
    "\n",
    "\n"
   ]
  },
  {
   "cell_type": "markdown",
   "metadata": {},
   "source": [
    "----------- MODELO 1 -------------\n",
    "\n",
    "\n",
    "TIMESTEPS = 51000\n",
    "model = DQN(\"MlpPolicy\", train_env, tensorboard_log=logdir, learning_rate=8e-4)\n",
    "\n",
    "---- TRAIN ------\n",
    "{'step': 51000, 'idx': 600, 'accuracy': 0.6648823529411765, 'precision': 0.6630292053986697, 'recall': 0.6647574415887605, 'terminated': False, }\n",
    "\n",
    "\n",
    "----- TEST ------\n",
    "{'accuracy': 0.33666666666666667, 'loss': 1.9699014893800002, 'precision': 0.35686385866535353, 'recall': 0.33666666666666667, 'test_time': 4.9825146198272705}\n",
    "\n",
    "\n"
   ]
  },
  {
   "cell_type": "markdown",
   "metadata": {},
   "source": [
    "----------- MODELO 1 -------------\n",
    "\n",
    "\n",
    "TIMESTEPS = 51000\n",
    "model = DQN(\"MlpPolicy\", train_env, tensorboard_log=logdir, learning_rate=1e-4)\n",
    "\n",
    "---- TRAIN ------\n",
    "{'step': 51000, 'idx': 600, 'accuracy': 0.7024901960784313, 'precision': 0.6952558342012927, 'recall': 0.7023305758064636, 'terminated': False, \n",
    "\n",
    "\n",
    "----- TEST ------\n",
    "{'accuracy': 0.4201587301587302, 'loss': 1.9164310452218232, 'precision': 0.503910442724766, 'recall': 0.42015873015873023, 'test_time': 4.597193956375122}\n"
   ]
  },
  {
   "cell_type": "code",
   "execution_count": null,
   "metadata": {
    "vscode": {
     "languageId": "plaintext"
    }
   },
   "outputs": [],
   "source": []
  }
 ],
 "metadata": {
  "kernelspec": {
   "display_name": "flower-env",
   "language": "python",
   "name": "python3"
  },
  "language_info": {
   "codemirror_mode": {
    "name": "ipython",
    "version": 3
   },
   "file_extension": ".py",
   "mimetype": "text/x-python",
   "name": "python",
   "nbconvert_exporter": "python",
   "pygments_lexer": "ipython3",
   "version": "3.10.12"
  }
 },
 "nbformat": 4,
 "nbformat_minor": 2
}
