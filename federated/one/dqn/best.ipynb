{
 "cells": [
  {
   "cell_type": "markdown",
   "metadata": {},
   "source": [
    "if (int(action == self.expected_action)):\n",
    "\n",
    "    reward = 1\n",
    "\n",
    "    self.total_rwd += 1\n",
    "\n",
    "elif (int(action)==0 and self.expected_action==1):\n",
    "\n",
    "    reward = -1.25\n",
    "\n",
    "elif (int(action)==1 and self.expected_action==0):\n",
    "\n",
    "    reward = -1\n",
    "\n",
    "\n",
    "lr = 9e-6\n",
    "\n",
    "gm = 3e-1\n",
    "\n",
    "steps = len(xtrain)\n",
    "\n",
    "DQN,0.5858755161406661,0.7908482142857143,0.9085547613165303,0.7428665792246596\n",
    "\n",
    "DQN,0.5857432858905998,0.8119087889757863,0.8708490857626704,0.8016533163118333\n"
   ]
  },
  {
   "cell_type": "markdown",
   "metadata": {
    "vscode": {
     "languageId": "plaintext"
    }
   },
   "source": [
    "if (int(action == self.expected_action)):\n",
    "\n",
    "    reward = 1\n",
    "\n",
    "    self.total_rwd += 1\n",
    "\n",
    "elif (int(action)==0 and self.expected_action==1):\n",
    "\n",
    "    reward = -1.1\n",
    "\n",
    "elif (int(action)==1 and self.expected_action==0):\n",
    "\n",
    "    reward = -1\n",
    "\n",
    "\n",
    "lr = 2e-5\n",
    "\n",
    "gm = 3e-1\n",
    "\n",
    "steps = 0.5*len(xtrain)\n",
    "\n",
    "DQN,0.6219455832750209,0.7629292352549435,0.7919520827672006,0.8132971340714604\n",
    "\n",
    "]DQN,0.5850148199195948,0.8478364809945016,0.8175469227411609,0.8955295242648815\n"
   ]
  },
  {
   "cell_type": "markdown",
   "metadata": {
    "vscode": {
     "languageId": "plaintext"
    }
   },
   "source": [
    "if (int(action == self.expected_action)):\n",
    "\n",
    "    reward = 1\n",
    "\n",
    "    self.total_rwd += 1\n",
    "\n",
    "elif (int(action)==0 and self.expected_action==1):\n",
    "\n",
    "    reward = -1.5\n",
    "\n",
    "elif (int(action)==1 and self.expected_action==0):\n",
    "\n",
    "    reward = -1\n",
    "\n",
    "\n",
    "lr = 4e-6\n",
    "\n",
    "gm = 9e-1\n",
    "\n",
    "steps = len(xtrain)\n",
    "\n",
    "DQN,0.5608526432863689,0.8903125,0.6529741303629651,0.8486534192850815\n",
    "\n",
    "DQN,0.5647431367215362,0.883915049434787,0.7296453785210654,0.8681447566169902\n"
   ]
  },
  {
   "cell_type": "markdown",
   "metadata": {},
   "source": [
    "1734\n",
    "\n",
    "if (int(action == self.expected_action)):\n",
    "\n",
    "    reward = 1\n",
    "\n",
    "    self.total_rwd += 1\n",
    "\n",
    "elif (int(action)==0 and self.expected_action==1):\n",
    "\n",
    "    reward = -1\n",
    "\n",
    "elif (int(action)==1 and self.expected_action==0):\n",
    "\n",
    "    reward = -1\n",
    "\n",
    "\n",
    "lr = 1e-5\n",
    "\n",
    "gm = 99e-2\n",
    "\n",
    "steps = 0.8*len(xtrain)\n",
    "\n",
    "DQN,0.5811788197092925,0.8204736753355418,0.9184277787668648,0.7126442094650444\n",
    "\n",
    "DQN,0.5945584103141128,0.8091082954817117,0.8317085684966649,0.7750418360028688\n"
   ]
  },
  {
   "cell_type": "markdown",
   "metadata": {},
   "source": [
    "3382\n",
    " \n",
    "melhorar o 406\n",
    "\n",
    " if (int(action) == 0 and self.expected_action==0):\n",
    "\n",
    "            reward = 1\n",
    "\n",
    "            self.total_rwd += 1\n",
    "  \n",
    "elif (int(action) == 1 and self.expected_action==1):\n",
    "\n",
    "            reward = 1\n",
    "\n",
    "            self.total_rwd += 1\n",
    "\n",
    "elif (int(action)==0 and self.expected_action==1):\n",
    "          \n",
    "            reward = -1000\n",
    "\n",
    "elif (int(action)==1 and self.expected_action==0):\n",
    "          \n",
    "            reward = -2\n",
    "\n",
    "\n",
    "\n",
    "\n",
    "seed = 42\n",
    "\n",
    "lr = 2e-5\n",
    "\n",
    "steps = 0.7*len(xtrain)\n",
    "\n",
    "\n",
    "DQN,0.6101812312016162,0.8053750512277585,0.7584165928234251,0.8712965536641983\n",
    "\n",
    "DQN,0.5734496104546531,0.8673201051876643,0.8448933782267115,0.8998326559885249\n"
   ]
  }
 ],
 "metadata": {
  "language_info": {
   "name": "python"
  }
 },
 "nbformat": 4,
 "nbformat_minor": 2
}
